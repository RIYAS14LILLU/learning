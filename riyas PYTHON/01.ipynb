{
 "cells": [
  {
   "cell_type": "code",
   "execution_count": null,
   "id": "8f035f83",
   "metadata": {},
   "outputs": [],
   "source": [
    "import numpy"
   ]
  },
  {
   "cell_type": "code",
   "execution_count": 1,
   "id": "94e9dbe2",
   "metadata": {},
   "outputs": [],
   "source": [
    "import numpy as ny"
   ]
  },
  {
   "cell_type": "code",
   "execution_count": null,
   "id": "93cc1b2c",
   "metadata": {},
   "outputs": [],
   "source": [
    "a=ny.array([(1,2,3,4,),(1,2,4,5),(7,6,5,8)])"
   ]
  },
  {
   "cell_type": "code",
   "execution_count": null,
   "id": "dfb89238",
   "metadata": {},
   "outputs": [],
   "source": [
    "print(a)"
   ]
  },
  {
   "cell_type": "code",
   "execution_count": null,
   "id": "64f1a292",
   "metadata": {},
   "outputs": [],
   "source": [
    "trans=ny.transpose(a)"
   ]
  },
  {
   "cell_type": "code",
   "execution_count": null,
   "id": "88acb237",
   "metadata": {},
   "outputs": [],
   "source": [
    "print(trans)"
   ]
  },
  {
   "cell_type": "code",
   "execution_count": null,
   "id": "be2e99f3",
   "metadata": {},
   "outputs": [],
   "source": [
    "trans.ravel()"
   ]
  },
  {
   "cell_type": "code",
   "execution_count": 2,
   "id": "bfd5bdd3",
   "metadata": {},
   "outputs": [],
   "source": [
    "zero=ny.ones((5,5))"
   ]
  },
  {
   "cell_type": "code",
   "execution_count": 3,
   "id": "ebfb9fdc",
   "metadata": {},
   "outputs": [
    {
     "name": "stdout",
     "output_type": "stream",
     "text": [
      "[[1. 1. 1. 1. 1.]\n",
      " [1. 1. 1. 1. 1.]\n",
      " [1. 1. 1. 1. 1.]\n",
      " [1. 1. 1. 1. 1.]\n",
      " [1. 1. 1. 1. 1.]]\n"
     ]
    }
   ],
   "source": [
    "print(zero)"
   ]
  },
  {
   "cell_type": "code",
   "execution_count": 4,
   "id": "96fc092f",
   "metadata": {},
   "outputs": [
    {
     "data": {
      "text/plain": [
       "array([[0.04214103, 0.54922585],\n",
       "       [0.58252408, 0.3047011 ]])"
      ]
     },
     "execution_count": 4,
     "metadata": {},
     "output_type": "execute_result"
    }
   ],
   "source": [
    "ny.random.random((2,2))"
   ]
  },
  {
   "cell_type": "markdown",
   "id": "0ff95319",
   "metadata": {},
   "source": [
    "numpy"
   ]
  },
  {
   "cell_type": "code",
   "execution_count": null,
   "id": "635a5f43",
   "metadata": {},
   "outputs": [],
   "source": []
  }
 ],
 "metadata": {
  "kernelspec": {
   "display_name": "Python 3 (ipykernel)",
   "language": "python",
   "name": "python3"
  },
  "language_info": {
   "codemirror_mode": {
    "name": "ipython",
    "version": 3
   },
   "file_extension": ".py",
   "mimetype": "text/x-python",
   "name": "python",
   "nbconvert_exporter": "python",
   "pygments_lexer": "ipython3",
   "version": "3.10.8"
  }
 },
 "nbformat": 4,
 "nbformat_minor": 5
}

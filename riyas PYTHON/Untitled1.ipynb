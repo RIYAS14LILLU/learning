{
 "cells": [
  {
   "cell_type": "code",
   "execution_count": null,
   "id": "c446b292",
   "metadata": {},
   "outputs": [],
   "source": [
    "a=10"
   ]
  },
  {
   "cell_type": "code",
   "execution_count": null,
   "id": "01cecb2a",
   "metadata": {},
   "outputs": [],
   "source": [
    "a=10"
   ]
  },
  {
   "cell_type": "code",
   "execution_count": null,
   "id": "fad25c4e",
   "metadata": {},
   "outputs": [],
   "source": [
    "a1=20"
   ]
  },
  {
   "cell_type": "code",
   "execution_count": null,
   "id": "1ca83580",
   "metadata": {},
   "outputs": [],
   "source": [
    "a/=20"
   ]
  },
  {
   "cell_type": "code",
   "execution_count": 1,
   "id": "79c707cc",
   "metadata": {},
   "outputs": [],
   "source": [
    "a3=30"
   ]
  },
  {
   "cell_type": "code",
   "execution_count": 5,
   "id": "42fe634f",
   "metadata": {},
   "outputs": [],
   "source": [
    "\n",
    "a=10"
   ]
  },
  {
   "cell_type": "code",
   "execution_count": 6,
   "id": "4004b078",
   "metadata": {},
   "outputs": [],
   "source": [
    "ab=10"
   ]
  },
  {
   "cell_type": "code",
   "execution_count": 7,
   "id": "91403d78",
   "metadata": {},
   "outputs": [],
   "source": [
    "nt=1"
   ]
  },
  {
   "cell_type": "code",
   "execution_count": 9,
   "id": "55133fed",
   "metadata": {},
   "outputs": [
    {
     "data": {
      "text/plain": [
       "True"
      ]
     },
     "execution_count": 9,
     "metadata": {},
     "output_type": "execute_result"
    }
   ],
   "source": [
    "10==a"
   ]
  },
  {
   "cell_type": "code",
   "execution_count": 10,
   "id": "dc26e97c",
   "metadata": {},
   "outputs": [],
   "source": [
    "Rr=2"
   ]
  },
  {
   "cell_type": "code",
   "execution_count": null,
   "id": "44119951",
   "metadata": {},
   "outputs": [],
   "source": [
    "Aa=1"
   ]
  },
  {
   "cell_type": "code",
   "execution_count": 1,
   "id": "df0f9d54",
   "metadata": {},
   "outputs": [],
   "source": [
    "var1=range(1,10)"
   ]
  },
  {
   "cell_type": "code",
   "execution_count": 3,
   "id": "e835011a",
   "metadata": {},
   "outputs": [
    {
     "name": "stdout",
     "output_type": "stream",
     "text": [
      "range(1, 10)\n"
     ]
    }
   ],
   "source": [
    "print(var1)"
   ]
  },
  {
   "cell_type": "code",
   "execution_count": 4,
   "id": "a8ce1919",
   "metadata": {},
   "outputs": [
    {
     "name": "stdout",
     "output_type": "stream",
     "text": [
      "[1, 2, 3, 4, 5, 6, 7, 8, 9]\n"
     ]
    }
   ],
   "source": [
    "print(list(var1))"
   ]
  },
  {
   "cell_type": "code",
   "execution_count": 25,
   "id": "85a98317",
   "metadata": {},
   "outputs": [],
   "source": [
    "a1={1:\"data analytics\",\"dept\":\"MCA\",\"studentcount\":47}"
   ]
  },
  {
   "cell_type": "code",
   "execution_count": 20,
   "id": "7708c585",
   "metadata": {},
   "outputs": [
    {
     "data": {
      "text/plain": [
       "dict"
      ]
     },
     "execution_count": 20,
     "metadata": {},
     "output_type": "execute_result"
    }
   ],
   "source": [
    "type(a1)"
   ]
  },
  {
   "cell_type": "code",
   "execution_count": 26,
   "id": "3154260c",
   "metadata": {},
   "outputs": [
    {
     "data": {
      "text/plain": [
       "'data analytics'"
      ]
     },
     "execution_count": 26,
     "metadata": {},
     "output_type": "execute_result"
    }
   ],
   "source": [
    "a1[1]"
   ]
  },
  {
   "cell_type": "code",
   "execution_count": 27,
   "id": "39ce7960",
   "metadata": {},
   "outputs": [],
   "source": [
    "var3={\"ted\",\"lil\",\"mot\",1,2,3}"
   ]
  },
  {
   "cell_type": "code",
   "execution_count": 28,
   "id": "f7dd3994",
   "metadata": {},
   "outputs": [
    {
     "data": {
      "text/plain": [
       "set"
      ]
     },
     "execution_count": 28,
     "metadata": {},
     "output_type": "execute_result"
    }
   ],
   "source": [
    "type(var3)"
   ]
  },
  {
   "cell_type": "code",
   "execution_count": 29,
   "id": "f376cc3f",
   "metadata": {},
   "outputs": [
    {
     "data": {
      "text/plain": [
       "{1, 2, 3, 'lil', 'mot', 'ted'}"
      ]
     },
     "execution_count": 29,
     "metadata": {},
     "output_type": "execute_result"
    }
   ],
   "source": [
    "var3\n"
   ]
  },
  {
   "cell_type": "code",
   "execution_count": 1,
   "id": "ecc83a33",
   "metadata": {},
   "outputs": [
    {
     "name": "stdout",
     "output_type": "stream",
     "text": [
      "enter total seat capacity:34\n",
      "your journey is not confrirmed\n",
      "only1 tickets booked\n",
      "50% of the tickets filled.the journey confirmed\n",
      "your journey is not confrirmed\n",
      "only2 tickets booked\n",
      "50% of the tickets filled.the journey confirmed\n",
      "your journey is not confrirmed\n",
      "only3 tickets booked\n",
      "50% of the tickets filled.the journey confirmed\n",
      "your journey is not confrirmed\n",
      "only4 tickets booked\n",
      "50% of the tickets filled.the journey confirmed\n",
      "your journey is not confrirmed\n",
      "only5 tickets booked\n",
      "50% of the tickets filled.the journey confirmed\n",
      "your journey is not confrirmed\n",
      "only6 tickets booked\n",
      "50% of the tickets filled.the journey confirmed\n",
      "your journey is not confrirmed\n",
      "only7 tickets booked\n",
      "50% of the tickets filled.the journey confirmed\n",
      "your journey is not confrirmed\n",
      "only8 tickets booked\n",
      "50% of the tickets filled.the journey confirmed\n",
      "your journey is not confrirmed\n",
      "only9 tickets booked\n",
      "50% of the tickets filled.the journey confirmed\n",
      "your journey is not confrirmed\n",
      "only10 tickets booked\n",
      "50% of the tickets filled.the journey confirmed\n",
      "your journey is not confrirmed\n",
      "only11 tickets booked\n",
      "50% of the tickets filled.the journey confirmed\n",
      "your journey is not confrirmed\n",
      "only12 tickets booked\n",
      "50% of the tickets filled.the journey confirmed\n",
      "your journey is not confrirmed\n",
      "only13 tickets booked\n",
      "50% of the tickets filled.the journey confirmed\n",
      "your journey is not confrirmed\n",
      "only14 tickets booked\n",
      "50% of the tickets filled.the journey confirmed\n",
      "your journey is not confrirmed\n",
      "only15 tickets booked\n",
      "50% of the tickets filled.the journey confirmed\n",
      "your journey is not confrirmed\n",
      "only16 tickets booked\n",
      "50% of the tickets filled.the journey confirmed\n",
      "your journey is not confrirmed\n",
      "only17 tickets booked\n",
      "50% of the tickets filled.the journey confirmed\n"
     ]
    }
   ],
   "source": [
    "tcs=int(input(\"enter total seat capacity:\"))\n",
    "counter=1\n",
    "while counter<=tcs/2:\n",
    "    print(f\"your journey is not confrirmed\")\n",
    "    print(f\"only{counter} tickets booked\")\n",
    "    counter+=1\n",
    "    print(\"50% of the tickets filled.the journey confirmed\")"
   ]
  },
  {
   "cell_type": "code",
   "execution_count": null,
   "id": "6feab4af",
   "metadata": {},
   "outputs": [],
   "source": []
  }
 ],
 "metadata": {
  "kernelspec": {
   "display_name": "Python 3 (ipykernel)",
   "language": "python",
   "name": "python3"
  },
  "language_info": {
   "codemirror_mode": {
    "name": "ipython",
    "version": 3
   },
   "file_extension": ".py",
   "mimetype": "text/x-python",
   "name": "python",
   "nbconvert_exporter": "python",
   "pygments_lexer": "ipython3",
   "version": "3.10.8"
  }
 },
 "nbformat": 4,
 "nbformat_minor": 5
}
